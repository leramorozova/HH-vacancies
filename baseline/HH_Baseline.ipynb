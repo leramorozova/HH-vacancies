{
 "cells": [
  {
   "cell_type": "code",
   "execution_count": 388,
   "id": "ddebc7f6",
   "metadata": {},
   "outputs": [],
   "source": [
    "import json\n",
    "import pandas as pd\n",
    "import numpy as np\n",
    "\n",
    "from collections import Counter\n",
    "from ast import literal_eval\n",
    "\n",
    "from sklearn.preprocessing import OrdinalEncoder\n",
    "from sklearn.model_selection import train_test_split\n",
    "from sklearn.ensemble import RandomForestRegressor\n",
    "from sklearn.metrics import mean_absolute_error\n",
    "from sklearn.feature_extraction.text import TfidfVectorizer\n",
    "from sklearn.linear_model import LinearRegression"
   ]
  },
  {
   "cell_type": "markdown",
   "id": "fd8613dc",
   "metadata": {},
   "source": [
    "# Регрессия на категориальных признаках"
   ]
  },
  {
   "cell_type": "code",
   "execution_count": 389,
   "id": "88f404a4",
   "metadata": {},
   "outputs": [],
   "source": [
    "df = pd.read_csv(\"vacancies.csv\")"
   ]
  },
  {
   "cell_type": "code",
   "execution_count": 390,
   "id": "fec3f3b6",
   "metadata": {},
   "outputs": [
    {
     "data": {
      "text/html": [
       "<div>\n",
       "<style scoped>\n",
       "    .dataframe tbody tr th:only-of-type {\n",
       "        vertical-align: middle;\n",
       "    }\n",
       "\n",
       "    .dataframe tbody tr th {\n",
       "        vertical-align: top;\n",
       "    }\n",
       "\n",
       "    .dataframe thead th {\n",
       "        text-align: right;\n",
       "    }\n",
       "</style>\n",
       "<table border=\"1\" class=\"dataframe\">\n",
       "  <thead>\n",
       "    <tr style=\"text-align: right;\">\n",
       "      <th></th>\n",
       "      <th>Unnamed: 0</th>\n",
       "      <th>accept_handicapped</th>\n",
       "      <th>postpoc_branded_desc</th>\n",
       "      <th>accept_kids</th>\n",
       "      <th>max_final_salary</th>\n",
       "      <th>max_salary</th>\n",
       "      <th>name</th>\n",
       "      <th>id</th>\n",
       "      <th>postpoc_desc</th>\n",
       "      <th>employment.name</th>\n",
       "      <th>salary.from_final</th>\n",
       "      <th>salary.currency</th>\n",
       "      <th>experience.name</th>\n",
       "      <th>schedule.name</th>\n",
       "      <th>employer.name</th>\n",
       "      <th>key_skills</th>\n",
       "      <th>address.city</th>\n",
       "      <th>salary.to_final</th>\n",
       "    </tr>\n",
       "  </thead>\n",
       "  <tbody>\n",
       "    <tr>\n",
       "      <th>0</th>\n",
       "      <td>0</td>\n",
       "      <td>False</td>\n",
       "      <td>\\n\\n\\n\\n\\n\\n\\n\\n\\n\\n\\n\\n\\n\\n\\n\\n\\n\\n\\n\\n\\n1 00...</td>\n",
       "      <td>False</td>\n",
       "      <td>NaN</td>\n",
       "      <td>NaN</td>\n",
       "      <td>Продавец-эксперт</td>\n",
       "      <td>74106345</td>\n",
       "      <td>Мебельная компания №1 в России в связи с актив...</td>\n",
       "      <td>Полная занятость</td>\n",
       "      <td>80000.0</td>\n",
       "      <td>RUR</td>\n",
       "      <td>Нет опыта</td>\n",
       "      <td>Сменный график</td>\n",
       "      <td>Много Мебели</td>\n",
       "      <td>NaN</td>\n",
       "      <td>NaN</td>\n",
       "      <td>NaN</td>\n",
       "    </tr>\n",
       "    <tr>\n",
       "      <th>1</th>\n",
       "      <td>1</td>\n",
       "      <td>False</td>\n",
       "      <td>\\n\\n\\n\\n\\n\\n\\n\\n\\n\\n\\n\\n\\n\\n\\n\\n\\n\\nМенеджер п...</td>\n",
       "      <td>False</td>\n",
       "      <td>NaN</td>\n",
       "      <td>-1.0</td>\n",
       "      <td>Менеджер по продажам в банке (м. Солнцево)</td>\n",
       "      <td>74093467</td>\n",
       "      <td>Менеджер по продажам в банк: Райффайзенбанк — ...</td>\n",
       "      <td>Полная занятость</td>\n",
       "      <td>NaN</td>\n",
       "      <td>NaN</td>\n",
       "      <td>От 1 года до 3 лет</td>\n",
       "      <td>Полный день</td>\n",
       "      <td>Райффайзен Банк</td>\n",
       "      <td>['Ориентация на результат', 'Работа в команде'...</td>\n",
       "      <td>Москва</td>\n",
       "      <td>NaN</td>\n",
       "    </tr>\n",
       "    <tr>\n",
       "      <th>2</th>\n",
       "      <td>2</td>\n",
       "      <td>False</td>\n",
       "      <td>NaN</td>\n",
       "      <td>False</td>\n",
       "      <td>20000.0</td>\n",
       "      <td>20000.0</td>\n",
       "      <td>Менеджер wildberries</td>\n",
       "      <td>74060491</td>\n",
       "      <td>Обязанности:  Ведение аналитики личного кабине...</td>\n",
       "      <td>Полная занятость</td>\n",
       "      <td>20000.0</td>\n",
       "      <td>RUR</td>\n",
       "      <td>От 1 года до 3 лет</td>\n",
       "      <td>Гибкий график</td>\n",
       "      <td>Харитонов Антон Алексеевич</td>\n",
       "      <td>['Амбициозность', 'Желание обучаться', 'Умение...</td>\n",
       "      <td>NaN</td>\n",
       "      <td>20000.0</td>\n",
       "    </tr>\n",
       "    <tr>\n",
       "      <th>3</th>\n",
       "      <td>3</td>\n",
       "      <td>False</td>\n",
       "      <td>NaN</td>\n",
       "      <td>False</td>\n",
       "      <td>34800.0</td>\n",
       "      <td>40000.0</td>\n",
       "      <td>Электромонтер по ремонту и обслуживанию электр...</td>\n",
       "      <td>74083801</td>\n",
       "      <td>Обязанности:  Обслуживать силовые и осветитель...</td>\n",
       "      <td>Полная занятость</td>\n",
       "      <td>NaN</td>\n",
       "      <td>RUR</td>\n",
       "      <td>От 1 года до 3 лет</td>\n",
       "      <td>Полный день</td>\n",
       "      <td>ДОДХИБИМР</td>\n",
       "      <td>['Пользователь ПК', 'Деловое общение', 'оформл...</td>\n",
       "      <td>село Лучинское</td>\n",
       "      <td>34800.0</td>\n",
       "    </tr>\n",
       "    <tr>\n",
       "      <th>4</th>\n",
       "      <td>4</td>\n",
       "      <td>False</td>\n",
       "      <td>NaN</td>\n",
       "      <td>False</td>\n",
       "      <td>50000.0</td>\n",
       "      <td>50000.0</td>\n",
       "      <td>Мастер по организации эксплуатации и ремонту з...</td>\n",
       "      <td>74079460</td>\n",
       "      <td>Обязанности:  Обеспечение обслуживания и содер...</td>\n",
       "      <td>Полная занятость</td>\n",
       "      <td>50000.0</td>\n",
       "      <td>RUR</td>\n",
       "      <td>От 1 года до 3 лет</td>\n",
       "      <td>Полный день</td>\n",
       "      <td>АУ УР СК Чекерил</td>\n",
       "      <td>['Пользователь ПК', 'Ремонтные работы', 'Орган...</td>\n",
       "      <td>Ижевск</td>\n",
       "      <td>50000.0</td>\n",
       "    </tr>\n",
       "  </tbody>\n",
       "</table>\n",
       "</div>"
      ],
      "text/plain": [
       "   Unnamed: 0  accept_handicapped  \\\n",
       "0           0               False   \n",
       "1           1               False   \n",
       "2           2               False   \n",
       "3           3               False   \n",
       "4           4               False   \n",
       "\n",
       "                                postpoc_branded_desc  accept_kids  \\\n",
       "0  \\n\\n\\n\\n\\n\\n\\n\\n\\n\\n\\n\\n\\n\\n\\n\\n\\n\\n\\n\\n\\n1 00...        False   \n",
       "1  \\n\\n\\n\\n\\n\\n\\n\\n\\n\\n\\n\\n\\n\\n\\n\\n\\n\\nМенеджер п...        False   \n",
       "2                                                NaN        False   \n",
       "3                                                NaN        False   \n",
       "4                                                NaN        False   \n",
       "\n",
       "   max_final_salary  max_salary  \\\n",
       "0               NaN         NaN   \n",
       "1               NaN        -1.0   \n",
       "2           20000.0     20000.0   \n",
       "3           34800.0     40000.0   \n",
       "4           50000.0     50000.0   \n",
       "\n",
       "                                                name        id  \\\n",
       "0                                   Продавец-эксперт  74106345   \n",
       "1         Менеджер по продажам в банке (м. Солнцево)  74093467   \n",
       "2                               Менеджер wildberries  74060491   \n",
       "3  Электромонтер по ремонту и обслуживанию электр...  74083801   \n",
       "4  Мастер по организации эксплуатации и ремонту з...  74079460   \n",
       "\n",
       "                                        postpoc_desc   employment.name  \\\n",
       "0  Мебельная компания №1 в России в связи с актив...  Полная занятость   \n",
       "1  Менеджер по продажам в банк: Райффайзенбанк — ...  Полная занятость   \n",
       "2  Обязанности:  Ведение аналитики личного кабине...  Полная занятость   \n",
       "3  Обязанности:  Обслуживать силовые и осветитель...  Полная занятость   \n",
       "4  Обязанности:  Обеспечение обслуживания и содер...  Полная занятость   \n",
       "\n",
       "   salary.from_final salary.currency     experience.name   schedule.name  \\\n",
       "0            80000.0             RUR           Нет опыта  Сменный график   \n",
       "1                NaN             NaN  От 1 года до 3 лет     Полный день   \n",
       "2            20000.0             RUR  От 1 года до 3 лет   Гибкий график   \n",
       "3                NaN             RUR  От 1 года до 3 лет     Полный день   \n",
       "4            50000.0             RUR  От 1 года до 3 лет     Полный день   \n",
       "\n",
       "                employer.name  \\\n",
       "0                Много Мебели   \n",
       "1             Райффайзен Банк   \n",
       "2  Харитонов Антон Алексеевич   \n",
       "3                   ДОДХИБИМР   \n",
       "4            АУ УР СК Чекерил   \n",
       "\n",
       "                                          key_skills    address.city  \\\n",
       "0                                                NaN             NaN   \n",
       "1  ['Ориентация на результат', 'Работа в команде'...          Москва   \n",
       "2  ['Амбициозность', 'Желание обучаться', 'Умение...             NaN   \n",
       "3  ['Пользователь ПК', 'Деловое общение', 'оформл...  село Лучинское   \n",
       "4  ['Пользователь ПК', 'Ремонтные работы', 'Орган...          Ижевск   \n",
       "\n",
       "   salary.to_final  \n",
       "0              NaN  \n",
       "1              NaN  \n",
       "2          20000.0  \n",
       "3          34800.0  \n",
       "4          50000.0  "
      ]
     },
     "execution_count": 390,
     "metadata": {},
     "output_type": "execute_result"
    }
   ],
   "source": [
    "df.head()"
   ]
  },
  {
   "cell_type": "code",
   "execution_count": 391,
   "id": "61064b43",
   "metadata": {},
   "outputs": [],
   "source": [
    "df_salaries = df[~df.max_final_salary.isnull()]"
   ]
  },
  {
   "cell_type": "code",
   "execution_count": 392,
   "id": "cde941ea",
   "metadata": {},
   "outputs": [
    {
     "data": {
      "text/html": [
       "<div>\n",
       "<style scoped>\n",
       "    .dataframe tbody tr th:only-of-type {\n",
       "        vertical-align: middle;\n",
       "    }\n",
       "\n",
       "    .dataframe tbody tr th {\n",
       "        vertical-align: top;\n",
       "    }\n",
       "\n",
       "    .dataframe thead th {\n",
       "        text-align: right;\n",
       "    }\n",
       "</style>\n",
       "<table border=\"1\" class=\"dataframe\">\n",
       "  <thead>\n",
       "    <tr style=\"text-align: right;\">\n",
       "      <th></th>\n",
       "      <th>Unnamed: 0</th>\n",
       "      <th>accept_handicapped</th>\n",
       "      <th>postpoc_branded_desc</th>\n",
       "      <th>accept_kids</th>\n",
       "      <th>max_final_salary</th>\n",
       "      <th>max_salary</th>\n",
       "      <th>name</th>\n",
       "      <th>id</th>\n",
       "      <th>postpoc_desc</th>\n",
       "      <th>employment.name</th>\n",
       "      <th>salary.from_final</th>\n",
       "      <th>salary.currency</th>\n",
       "      <th>experience.name</th>\n",
       "      <th>schedule.name</th>\n",
       "      <th>employer.name</th>\n",
       "      <th>key_skills</th>\n",
       "      <th>address.city</th>\n",
       "      <th>salary.to_final</th>\n",
       "    </tr>\n",
       "  </thead>\n",
       "  <tbody>\n",
       "    <tr>\n",
       "      <th>2</th>\n",
       "      <td>2</td>\n",
       "      <td>False</td>\n",
       "      <td>NaN</td>\n",
       "      <td>False</td>\n",
       "      <td>20000.0</td>\n",
       "      <td>20000.0</td>\n",
       "      <td>Менеджер wildberries</td>\n",
       "      <td>74060491</td>\n",
       "      <td>Обязанности:  Ведение аналитики личного кабине...</td>\n",
       "      <td>Полная занятость</td>\n",
       "      <td>20000.0</td>\n",
       "      <td>RUR</td>\n",
       "      <td>От 1 года до 3 лет</td>\n",
       "      <td>Гибкий график</td>\n",
       "      <td>Харитонов Антон Алексеевич</td>\n",
       "      <td>['Амбициозность', 'Желание обучаться', 'Умение...</td>\n",
       "      <td>NaN</td>\n",
       "      <td>20000.0</td>\n",
       "    </tr>\n",
       "    <tr>\n",
       "      <th>3</th>\n",
       "      <td>3</td>\n",
       "      <td>False</td>\n",
       "      <td>NaN</td>\n",
       "      <td>False</td>\n",
       "      <td>34800.0</td>\n",
       "      <td>40000.0</td>\n",
       "      <td>Электромонтер по ремонту и обслуживанию электр...</td>\n",
       "      <td>74083801</td>\n",
       "      <td>Обязанности:  Обслуживать силовые и осветитель...</td>\n",
       "      <td>Полная занятость</td>\n",
       "      <td>NaN</td>\n",
       "      <td>RUR</td>\n",
       "      <td>От 1 года до 3 лет</td>\n",
       "      <td>Полный день</td>\n",
       "      <td>ДОДХИБИМР</td>\n",
       "      <td>['Пользователь ПК', 'Деловое общение', 'оформл...</td>\n",
       "      <td>село Лучинское</td>\n",
       "      <td>34800.0</td>\n",
       "    </tr>\n",
       "    <tr>\n",
       "      <th>4</th>\n",
       "      <td>4</td>\n",
       "      <td>False</td>\n",
       "      <td>NaN</td>\n",
       "      <td>False</td>\n",
       "      <td>50000.0</td>\n",
       "      <td>50000.0</td>\n",
       "      <td>Мастер по организации эксплуатации и ремонту з...</td>\n",
       "      <td>74079460</td>\n",
       "      <td>Обязанности:  Обеспечение обслуживания и содер...</td>\n",
       "      <td>Полная занятость</td>\n",
       "      <td>50000.0</td>\n",
       "      <td>RUR</td>\n",
       "      <td>От 1 года до 3 лет</td>\n",
       "      <td>Полный день</td>\n",
       "      <td>АУ УР СК Чекерил</td>\n",
       "      <td>['Пользователь ПК', 'Ремонтные работы', 'Орган...</td>\n",
       "      <td>Ижевск</td>\n",
       "      <td>50000.0</td>\n",
       "    </tr>\n",
       "    <tr>\n",
       "      <th>9</th>\n",
       "      <td>9</td>\n",
       "      <td>False</td>\n",
       "      <td>NaN</td>\n",
       "      <td>False</td>\n",
       "      <td>34800.0</td>\n",
       "      <td>40000.0</td>\n",
       "      <td>Продавец-консультант</td>\n",
       "      <td>74078085</td>\n",
       "      <td>В сеть магазинов профессиональной косметики тр...</td>\n",
       "      <td>Полная занятость</td>\n",
       "      <td>34800.0</td>\n",
       "      <td>RUR</td>\n",
       "      <td>Нет опыта</td>\n",
       "      <td>Полный день</td>\n",
       "      <td>Эстель-Томск</td>\n",
       "      <td>['Обслуживание покупателей', 'Розничная торгов...</td>\n",
       "      <td>Томск</td>\n",
       "      <td>34800.0</td>\n",
       "    </tr>\n",
       "    <tr>\n",
       "      <th>13</th>\n",
       "      <td>13</td>\n",
       "      <td>False</td>\n",
       "      <td>NaN</td>\n",
       "      <td>False</td>\n",
       "      <td>15660.0</td>\n",
       "      <td>18000.0</td>\n",
       "      <td>Слесарь-сантехник</td>\n",
       "      <td>74080096</td>\n",
       "      <td>Обязанности:  Обслуживание санитарно -техничес...</td>\n",
       "      <td>Полная занятость</td>\n",
       "      <td>15660.0</td>\n",
       "      <td>RUR</td>\n",
       "      <td>От 1 года до 3 лет</td>\n",
       "      <td>Полный день</td>\n",
       "      <td>ФГБНУ ФАНЦ Юго-Востока</td>\n",
       "      <td>['Высокая ответственность']</td>\n",
       "      <td>Саратов</td>\n",
       "      <td>15660.0</td>\n",
       "    </tr>\n",
       "  </tbody>\n",
       "</table>\n",
       "</div>"
      ],
      "text/plain": [
       "    Unnamed: 0  accept_handicapped postpoc_branded_desc  accept_kids  \\\n",
       "2            2               False                  NaN        False   \n",
       "3            3               False                  NaN        False   \n",
       "4            4               False                  NaN        False   \n",
       "9            9               False                  NaN        False   \n",
       "13          13               False                  NaN        False   \n",
       "\n",
       "    max_final_salary  max_salary  \\\n",
       "2            20000.0     20000.0   \n",
       "3            34800.0     40000.0   \n",
       "4            50000.0     50000.0   \n",
       "9            34800.0     40000.0   \n",
       "13           15660.0     18000.0   \n",
       "\n",
       "                                                 name        id  \\\n",
       "2                                Менеджер wildberries  74060491   \n",
       "3   Электромонтер по ремонту и обслуживанию электр...  74083801   \n",
       "4   Мастер по организации эксплуатации и ремонту з...  74079460   \n",
       "9                                Продавец-консультант  74078085   \n",
       "13                                  Слесарь-сантехник  74080096   \n",
       "\n",
       "                                         postpoc_desc   employment.name  \\\n",
       "2   Обязанности:  Ведение аналитики личного кабине...  Полная занятость   \n",
       "3   Обязанности:  Обслуживать силовые и осветитель...  Полная занятость   \n",
       "4   Обязанности:  Обеспечение обслуживания и содер...  Полная занятость   \n",
       "9   В сеть магазинов профессиональной косметики тр...  Полная занятость   \n",
       "13  Обязанности:  Обслуживание санитарно -техничес...  Полная занятость   \n",
       "\n",
       "    salary.from_final salary.currency     experience.name  schedule.name  \\\n",
       "2             20000.0             RUR  От 1 года до 3 лет  Гибкий график   \n",
       "3                 NaN             RUR  От 1 года до 3 лет    Полный день   \n",
       "4             50000.0             RUR  От 1 года до 3 лет    Полный день   \n",
       "9             34800.0             RUR           Нет опыта    Полный день   \n",
       "13            15660.0             RUR  От 1 года до 3 лет    Полный день   \n",
       "\n",
       "                 employer.name  \\\n",
       "2   Харитонов Антон Алексеевич   \n",
       "3                    ДОДХИБИМР   \n",
       "4             АУ УР СК Чекерил   \n",
       "9                 Эстель-Томск   \n",
       "13      ФГБНУ ФАНЦ Юго-Востока   \n",
       "\n",
       "                                           key_skills    address.city  \\\n",
       "2   ['Амбициозность', 'Желание обучаться', 'Умение...             NaN   \n",
       "3   ['Пользователь ПК', 'Деловое общение', 'оформл...  село Лучинское   \n",
       "4   ['Пользователь ПК', 'Ремонтные работы', 'Орган...          Ижевск   \n",
       "9   ['Обслуживание покупателей', 'Розничная торгов...           Томск   \n",
       "13                        ['Высокая ответственность']         Саратов   \n",
       "\n",
       "    salary.to_final  \n",
       "2           20000.0  \n",
       "3           34800.0  \n",
       "4           50000.0  \n",
       "9           34800.0  \n",
       "13          15660.0  "
      ]
     },
     "execution_count": 392,
     "metadata": {},
     "output_type": "execute_result"
    }
   ],
   "source": [
    "df_salaries.head()"
   ]
  },
  {
   "cell_type": "code",
   "execution_count": 393,
   "id": "81c37dd4",
   "metadata": {},
   "outputs": [],
   "source": [
    "def serialize(skills):\n",
    "    if isinstance(skills, float):\n",
    "        return []\n",
    "    skills = skills.replace('\"', \"\").replace(\"'\", '\"')\n",
    "    return json.loads(skills)"
   ]
  },
  {
   "cell_type": "code",
   "execution_count": 394,
   "id": "f6f7b91e",
   "metadata": {},
   "outputs": [
    {
     "name": "stderr",
     "output_type": "stream",
     "text": [
      "/home/ephobia/.local/lib/python3.6/site-packages/pandas/core/generic.py:5170: SettingWithCopyWarning: \n",
      "A value is trying to be set on a copy of a slice from a DataFrame.\n",
      "Try using .loc[row_indexer,col_indexer] = value instead\n",
      "\n",
      "See the caveats in the documentation: https://pandas.pydata.org/pandas-docs/stable/user_guide/indexing.html#returning-a-view-versus-a-copy\n",
      "  self[name] = value\n"
     ]
    }
   ],
   "source": [
    "df_salaries.key_skills = df_salaries.key_skills.apply(serialize)"
   ]
  },
  {
   "cell_type": "code",
   "execution_count": 395,
   "id": "d713461f",
   "metadata": {},
   "outputs": [
    {
     "data": {
      "text/plain": [
       "count    13834.000000\n",
       "mean         4.239844\n",
       "std          3.876316\n",
       "min          0.000000\n",
       "25%          1.000000\n",
       "50%          4.000000\n",
       "75%          5.000000\n",
       "max         30.000000\n",
       "Name: key_skills, dtype: float64"
      ]
     },
     "execution_count": 395,
     "metadata": {},
     "output_type": "execute_result"
    }
   ],
   "source": [
    "df_salaries.key_skills.apply(len).describe()"
   ]
  },
  {
   "cell_type": "markdown",
   "id": "5d1eb170",
   "metadata": {},
   "source": [
    "## Обработка навыков\n",
    "\n",
    "1. Считаем самые частотные\n",
    "2. Даем отдельные лейблы самым частотным, менее частотные убираем под один лейбл\n",
    "3. Режем список навыков до 5"
   ]
  },
  {
   "cell_type": "code",
   "execution_count": 396,
   "id": "7956abfd",
   "metadata": {},
   "outputs": [],
   "source": [
    "skill_set = []\n",
    "\n",
    "for row in df_salaries.key_skills:\n",
    "    skill_set +=  row"
   ]
  },
  {
   "cell_type": "code",
   "execution_count": 397,
   "id": "437659d0",
   "metadata": {},
   "outputs": [],
   "source": [
    "skill_counter = Counter(skill_set)"
   ]
  },
  {
   "cell_type": "code",
   "execution_count": 398,
   "id": "4b41344b",
   "metadata": {},
   "outputs": [
    {
     "data": {
      "text/plain": [
       "4234"
      ]
     },
     "execution_count": 398,
     "metadata": {},
     "output_type": "execute_result"
    }
   ],
   "source": [
    "len(skill_counter)"
   ]
  },
  {
   "cell_type": "code",
   "execution_count": 399,
   "id": "8d17eb2f",
   "metadata": {},
   "outputs": [],
   "source": [
    "common_skills = {skill[0]: i for i, skill in enumerate(skill_counter.most_common(150))}"
   ]
  },
  {
   "cell_type": "code",
   "execution_count": 400,
   "id": "383ad2e3",
   "metadata": {},
   "outputs": [],
   "source": [
    "def filter_out_uncommon_skills(skills):\n",
    "    final_skills = []\n",
    "    for skill in skills:\n",
    "        if skill in common_skills:\n",
    "            final_skills.append(common_skills[skill])\n",
    "        else:\n",
    "            final_skills.append(150)\n",
    "    final_skills.sort()\n",
    "    if len(final_skills) < 10:\n",
    "         final_skills = final_skills + (10 - len(final_skills)) * [151]\n",
    "    else:\n",
    "        final_skills = final_skills[:10]\n",
    "    return np.asarray(final_skills)"
   ]
  },
  {
   "cell_type": "code",
   "execution_count": 401,
   "id": "3df7427c",
   "metadata": {},
   "outputs": [
    {
     "name": "stderr",
     "output_type": "stream",
     "text": [
      "/home/ephobia/.local/lib/python3.6/site-packages/ipykernel_launcher.py:1: UserWarning: Pandas doesn't allow columns to be created via a new attribute name - see https://pandas.pydata.org/pandas-docs/stable/indexing.html#attribute-access\n",
      "  \"\"\"Entry point for launching an IPython kernel.\n"
     ]
    }
   ],
   "source": [
    "df_salaries.vec_key_skills = df_salaries.key_skills.apply(filter_out_uncommon_skills)"
   ]
  },
  {
   "cell_type": "code",
   "execution_count": 402,
   "id": "4aba310e",
   "metadata": {},
   "outputs": [
    {
     "data": {
      "text/plain": [
       "count    13834.0\n",
       "mean        10.0\n",
       "std          0.0\n",
       "min         10.0\n",
       "25%         10.0\n",
       "50%         10.0\n",
       "75%         10.0\n",
       "max         10.0\n",
       "Name: key_skills, dtype: float64"
      ]
     },
     "execution_count": 402,
     "metadata": {},
     "output_type": "execute_result"
    }
   ],
   "source": [
    "df_salaries.vec_key_skills.apply(len).describe()"
   ]
  },
  {
   "cell_type": "code",
   "execution_count": 403,
   "id": "9792865e",
   "metadata": {},
   "outputs": [],
   "source": [
    "skill_df = pd.DataFrame(np.array(list(df_salaries.vec_key_skills.values)),\n",
    "                        columns=[f\"skill_{i}\" for i in range(10)],\n",
    "                        index=df_salaries.index)"
   ]
  },
  {
   "cell_type": "code",
   "execution_count": 404,
   "id": "d7d97f49",
   "metadata": {},
   "outputs": [],
   "source": [
    "salary_df_skills = pd.concat([df_salaries, skill_df], axis=1)"
   ]
  },
  {
   "cell_type": "markdown",
   "id": "f7ed0a6c",
   "metadata": {},
   "source": [
    "## Обработка локаций"
   ]
  },
  {
   "cell_type": "code",
   "execution_count": 405,
   "id": "7f99f451",
   "metadata": {},
   "outputs": [],
   "source": [
    "salary_df_skills[\"address.city\"] = salary_df_skills[\"address.city\"].apply(\n",
    "    lambda x:x.lower() if not isinstance(x, float) else x\n",
    ")"
   ]
  },
  {
   "cell_type": "code",
   "execution_count": 406,
   "id": "fc4fe157",
   "metadata": {},
   "outputs": [],
   "source": [
    "city_counter = Counter(salary_df_skills[\"address.city\"].values)"
   ]
  },
  {
   "cell_type": "code",
   "execution_count": 407,
   "id": "ff401ba2",
   "metadata": {},
   "outputs": [
    {
     "data": {
      "text/plain": [
       "929"
      ]
     },
     "execution_count": 407,
     "metadata": {},
     "output_type": "execute_result"
    }
   ],
   "source": [
    "len(city_counter)"
   ]
  },
  {
   "cell_type": "code",
   "execution_count": 408,
   "id": "7eda7ecf",
   "metadata": {},
   "outputs": [],
   "source": [
    "common_cities = {city[0]: i for i, city in enumerate(city_counter.most_common(100))}"
   ]
  },
  {
   "cell_type": "code",
   "execution_count": 409,
   "id": "01cca11d",
   "metadata": {},
   "outputs": [],
   "source": [
    "def filter_out_uncommon_cities(city):\n",
    "    if city in common_cities:\n",
    "        return common_cities[city]\n",
    "    else:\n",
    "        return 100"
   ]
  },
  {
   "cell_type": "code",
   "execution_count": 410,
   "id": "624e89c1",
   "metadata": {},
   "outputs": [],
   "source": [
    "salary_df_skills[\"city_vec\"] = salary_df_skills[\"address.city\"].apply(filter_out_uncommon_cities)"
   ]
  },
  {
   "cell_type": "markdown",
   "id": "e4f3ad59",
   "metadata": {},
   "source": [
    "## Обучение"
   ]
  },
  {
   "cell_type": "code",
   "execution_count": 420,
   "id": "57e01abf",
   "metadata": {},
   "outputs": [],
   "source": [
    "cat_features = [\"accept_handicapped\", \n",
    "                \"accept_kids\", \n",
    "                \"employment.name\", \n",
    "                \"experience.name\",\n",
    "                \"schedule.name\", \n",
    "                \"city_vec\", \n",
    "                \"skill_0\", \"skill_1\", \"skill_2\", \n",
    "                \"skill_3\", \"skill_4\", \"skill_5\", \"skill_6\", \"skill_7\", \"skill_8\", \"skill_9\"]"
   ]
  },
  {
   "cell_type": "code",
   "execution_count": 421,
   "id": "490b2e48",
   "metadata": {},
   "outputs": [],
   "source": [
    "X = salary_df_skills[cat_features]"
   ]
  },
  {
   "cell_type": "code",
   "execution_count": 422,
   "id": "fcea6f45",
   "metadata": {},
   "outputs": [],
   "source": [
    "y = salary_df_skills.max_final_salary"
   ]
  },
  {
   "cell_type": "code",
   "execution_count": 423,
   "id": "10aaad3d",
   "metadata": {},
   "outputs": [],
   "source": [
    "enc = OrdinalEncoder()\n",
    "X = enc.fit_transform(X)"
   ]
  },
  {
   "cell_type": "code",
   "execution_count": 424,
   "id": "05cf5418",
   "metadata": {},
   "outputs": [],
   "source": [
    "X_train, X_test, y_train, y_test = train_test_split(X, y, test_size=0.3, random_state=42)"
   ]
  },
  {
   "cell_type": "code",
   "execution_count": 425,
   "id": "d495028c",
   "metadata": {},
   "outputs": [],
   "source": [
    "regr = RandomForestRegressor(random_state=42)\n",
    "regr.fit(X_train, y_train)\n",
    "y_pred = regr.predict(X_test)"
   ]
  },
  {
   "cell_type": "code",
   "execution_count": 426,
   "id": "5035182f",
   "metadata": {},
   "outputs": [
    {
     "data": {
      "text/plain": [
       "28486.77680882078"
      ]
     },
     "execution_count": 426,
     "metadata": {},
     "output_type": "execute_result"
    }
   ],
   "source": [
    "mean_absolute_error(y_test, y_pred)"
   ]
  },
  {
   "cell_type": "code",
   "execution_count": 427,
   "id": "74330dd7",
   "metadata": {},
   "outputs": [
    {
     "data": {
      "text/plain": [
       "[('schedule.name', 0.19708929454127533),\n",
       " ('skill_0', 0.15670185888799282),\n",
       " ('city_vec', 0.13791366999446017),\n",
       " ('experience.name', 0.11932150573577678),\n",
       " ('skill_1', 0.07656906509263087),\n",
       " ('skill_2', 0.07354279313830737),\n",
       " ('skill_3', 0.055871125995338514),\n",
       " ('skill_4', 0.05347680480131649),\n",
       " ('skill_5', 0.03575065724396876),\n",
       " ('skill_7', 0.02053353942360616),\n",
       " ('skill_6', 0.019805544318278426),\n",
       " ('employment.name', 0.018857963761678812),\n",
       " ('accept_handicapped', 0.012353929178852722),\n",
       " ('skill_8', 0.011598904481060112),\n",
       " ('skill_9', 0.008503241152092406),\n",
       " ('accept_kids', 0.0021101022533643026)]"
      ]
     },
     "execution_count": 427,
     "metadata": {},
     "output_type": "execute_result"
    }
   ],
   "source": [
    "d = {cat_features[i]: regr.feature_importances_[i] for i in range(len(regr.feature_importances_))}\n",
    "Counter(d).most_common(20)"
   ]
  },
  {
   "cell_type": "markdown",
   "id": "3c965b49",
   "metadata": {},
   "source": [
    "### Убрать навыки?"
   ]
  },
  {
   "cell_type": "code",
   "execution_count": 351,
   "id": "f1de26fa",
   "metadata": {},
   "outputs": [],
   "source": [
    "cat_features = [\"accept_handicapped\", \n",
    "                \"accept_kids\", \n",
    "                \"employment.name\", \n",
    "                \"experience.name\",\n",
    "                \"schedule.name\", \n",
    "                \"city_vec\"]"
   ]
  },
  {
   "cell_type": "code",
   "execution_count": 352,
   "id": "d9f08e9c",
   "metadata": {},
   "outputs": [
    {
     "data": {
      "text/plain": [
       "33505.39467424036"
      ]
     },
     "execution_count": 352,
     "metadata": {},
     "output_type": "execute_result"
    }
   ],
   "source": [
    "X = salary_df_skills[cat_features]\n",
    "y = salary_df_skills.max_final_salary\n",
    "enc = OrdinalEncoder()\n",
    "X = enc.fit_transform(X)\n",
    "X_train, X_test, y_train, y_test = train_test_split(X, y, test_size=0.3, random_state=42)\n",
    "\n",
    "regr = RandomForestRegressor(random_state=42)\n",
    "regr.fit(X_train, y_train)\n",
    "y_pred = regr.predict(X_test)\n",
    "\n",
    "mean_absolute_error(y_test, y_pred)"
   ]
  },
  {
   "cell_type": "markdown",
   "id": "a1f551f4",
   "metadata": {},
   "source": [
    "# Регрессия на текстовых признаках"
   ]
  },
  {
   "cell_type": "code",
   "execution_count": 353,
   "id": "a6f4b8e8",
   "metadata": {},
   "outputs": [],
   "source": [
    "df = pd.read_csv(\"text_data.csv\")"
   ]
  },
  {
   "cell_type": "code",
   "execution_count": 354,
   "id": "7b001947",
   "metadata": {},
   "outputs": [
    {
     "data": {
      "text/html": [
       "<div>\n",
       "<style scoped>\n",
       "    .dataframe tbody tr th:only-of-type {\n",
       "        vertical-align: middle;\n",
       "    }\n",
       "\n",
       "    .dataframe tbody tr th {\n",
       "        vertical-align: top;\n",
       "    }\n",
       "\n",
       "    .dataframe thead th {\n",
       "        text-align: right;\n",
       "    }\n",
       "</style>\n",
       "<table border=\"1\" class=\"dataframe\">\n",
       "  <thead>\n",
       "    <tr style=\"text-align: right;\">\n",
       "      <th></th>\n",
       "      <th>Unnamed: 0</th>\n",
       "      <th>accept_handicapped</th>\n",
       "      <th>postpoc_branded_desc</th>\n",
       "      <th>accept_kids</th>\n",
       "      <th>max_final_salary</th>\n",
       "      <th>max_salary</th>\n",
       "      <th>name</th>\n",
       "      <th>id</th>\n",
       "      <th>postpoc_desc</th>\n",
       "      <th>employment.name</th>\n",
       "      <th>...</th>\n",
       "      <th>address.city</th>\n",
       "      <th>salary.to_final</th>\n",
       "      <th>branded_num_sym</th>\n",
       "      <th>num_sym</th>\n",
       "      <th>branded_tokens</th>\n",
       "      <th>tokens</th>\n",
       "      <th>num_branded_tokens</th>\n",
       "      <th>num_tokens</th>\n",
       "      <th>branded_lemmas</th>\n",
       "      <th>lemmas</th>\n",
       "    </tr>\n",
       "  </thead>\n",
       "  <tbody>\n",
       "    <tr>\n",
       "      <th>0</th>\n",
       "      <td>0</td>\n",
       "      <td>False</td>\n",
       "      <td>\\n\\n\\n\\n\\n\\n\\n\\n\\n\\n\\n\\n\\n\\n\\n\\n\\n\\n\\n\\n\\n1 00...</td>\n",
       "      <td>False</td>\n",
       "      <td>NaN</td>\n",
       "      <td>NaN</td>\n",
       "      <td>Продавец-эксперт</td>\n",
       "      <td>74106345</td>\n",
       "      <td>Мебельная компания №1 в России в связи с актив...</td>\n",
       "      <td>Полная занятость</td>\n",
       "      <td>...</td>\n",
       "      <td>не указано</td>\n",
       "      <td>NaN</td>\n",
       "      <td>1078</td>\n",
       "      <td>610</td>\n",
       "      <td>['1', '000', 'мебельных', 'салонов', '10', '00...</td>\n",
       "      <td>['Мебельная', 'компания', '№1', 'в', 'России',...</td>\n",
       "      <td>116</td>\n",
       "      <td>94</td>\n",
       "      <td>['1', '000', 'мебельный', 'салон', '10', '000'...</td>\n",
       "      <td>['мебельный', 'компания', '№1', 'россия', 'свя...</td>\n",
       "    </tr>\n",
       "    <tr>\n",
       "      <th>1</th>\n",
       "      <td>1</td>\n",
       "      <td>False</td>\n",
       "      <td>\\n\\n\\n\\n\\n\\n\\n\\n\\n\\n\\n\\n\\n\\n\\n\\n\\n\\nМенеджер п...</td>\n",
       "      <td>False</td>\n",
       "      <td>NaN</td>\n",
       "      <td>-1.0</td>\n",
       "      <td>Менеджер по продажам в банке (м. Солнцево)</td>\n",
       "      <td>74093467</td>\n",
       "      <td>Менеджер по продажам в банк: Райффайзенбанк — ...</td>\n",
       "      <td>Полная занятость</td>\n",
       "      <td>...</td>\n",
       "      <td>Москва</td>\n",
       "      <td>NaN</td>\n",
       "      <td>2166</td>\n",
       "      <td>1848</td>\n",
       "      <td>['Менеджер', 'по', 'продажам', 'в', 'банк:', '...</td>\n",
       "      <td>['Менеджер', 'по', 'продажам', 'в', 'банк:', '...</td>\n",
       "      <td>268</td>\n",
       "      <td>238</td>\n",
       "      <td>['менеджер', 'продажа', 'банк', 'райффайзенбан...</td>\n",
       "      <td>['менеджер', 'продажа', 'банк', 'райффайзенбан...</td>\n",
       "    </tr>\n",
       "    <tr>\n",
       "      <th>2</th>\n",
       "      <td>2</td>\n",
       "      <td>False</td>\n",
       "      <td>NaN</td>\n",
       "      <td>False</td>\n",
       "      <td>20000.0</td>\n",
       "      <td>20000.0</td>\n",
       "      <td>Менеджер wildberries</td>\n",
       "      <td>74060491</td>\n",
       "      <td>Обязанности:  Ведение аналитики личного кабине...</td>\n",
       "      <td>Полная занятость</td>\n",
       "      <td>...</td>\n",
       "      <td>не указано</td>\n",
       "      <td>20000.0</td>\n",
       "      <td>0</td>\n",
       "      <td>314</td>\n",
       "      <td>[]</td>\n",
       "      <td>['Обязанности:', 'Ведение', 'аналитики', 'личн...</td>\n",
       "      <td>0</td>\n",
       "      <td>42</td>\n",
       "      <td>[]</td>\n",
       "      <td>['обязанности', 'ведение', 'аналитик', 'личный...</td>\n",
       "    </tr>\n",
       "    <tr>\n",
       "      <th>3</th>\n",
       "      <td>3</td>\n",
       "      <td>False</td>\n",
       "      <td>NaN</td>\n",
       "      <td>False</td>\n",
       "      <td>34800.0</td>\n",
       "      <td>40000.0</td>\n",
       "      <td>Электромонтер по ремонту и обслуживанию электр...</td>\n",
       "      <td>74083801</td>\n",
       "      <td>Обязанности:  Обслуживать силовые и осветитель...</td>\n",
       "      <td>Полная занятость</td>\n",
       "      <td>...</td>\n",
       "      <td>село Лучинское</td>\n",
       "      <td>34800.0</td>\n",
       "      <td>0</td>\n",
       "      <td>2465</td>\n",
       "      <td>[]</td>\n",
       "      <td>['Обязанности:', 'Обслуживать', 'силовые', 'и'...</td>\n",
       "      <td>0</td>\n",
       "      <td>256</td>\n",
       "      <td>[]</td>\n",
       "      <td>['обязанности', 'обслуживать', 'силовой', 'осв...</td>\n",
       "    </tr>\n",
       "    <tr>\n",
       "      <th>4</th>\n",
       "      <td>4</td>\n",
       "      <td>False</td>\n",
       "      <td>NaN</td>\n",
       "      <td>False</td>\n",
       "      <td>50000.0</td>\n",
       "      <td>50000.0</td>\n",
       "      <td>Мастер по организации эксплуатации и ремонту з...</td>\n",
       "      <td>74079460</td>\n",
       "      <td>Обязанности:  Обеспечение обслуживания и содер...</td>\n",
       "      <td>Полная занятость</td>\n",
       "      <td>...</td>\n",
       "      <td>Ижевск</td>\n",
       "      <td>50000.0</td>\n",
       "      <td>0</td>\n",
       "      <td>733</td>\n",
       "      <td>[]</td>\n",
       "      <td>['Обязанности:', 'Обеспечение', 'обслуживания'...</td>\n",
       "      <td>0</td>\n",
       "      <td>86</td>\n",
       "      <td>[]</td>\n",
       "      <td>['обязанности', 'обеспечение', 'обслуживание',...</td>\n",
       "    </tr>\n",
       "  </tbody>\n",
       "</table>\n",
       "<p>5 rows × 26 columns</p>\n",
       "</div>"
      ],
      "text/plain": [
       "   Unnamed: 0  accept_handicapped  \\\n",
       "0           0               False   \n",
       "1           1               False   \n",
       "2           2               False   \n",
       "3           3               False   \n",
       "4           4               False   \n",
       "\n",
       "                                postpoc_branded_desc  accept_kids  \\\n",
       "0  \\n\\n\\n\\n\\n\\n\\n\\n\\n\\n\\n\\n\\n\\n\\n\\n\\n\\n\\n\\n\\n1 00...        False   \n",
       "1  \\n\\n\\n\\n\\n\\n\\n\\n\\n\\n\\n\\n\\n\\n\\n\\n\\n\\nМенеджер п...        False   \n",
       "2                                                NaN        False   \n",
       "3                                                NaN        False   \n",
       "4                                                NaN        False   \n",
       "\n",
       "   max_final_salary  max_salary  \\\n",
       "0               NaN         NaN   \n",
       "1               NaN        -1.0   \n",
       "2           20000.0     20000.0   \n",
       "3           34800.0     40000.0   \n",
       "4           50000.0     50000.0   \n",
       "\n",
       "                                                name        id  \\\n",
       "0                                   Продавец-эксперт  74106345   \n",
       "1         Менеджер по продажам в банке (м. Солнцево)  74093467   \n",
       "2                               Менеджер wildberries  74060491   \n",
       "3  Электромонтер по ремонту и обслуживанию электр...  74083801   \n",
       "4  Мастер по организации эксплуатации и ремонту з...  74079460   \n",
       "\n",
       "                                        postpoc_desc   employment.name  ...  \\\n",
       "0  Мебельная компания №1 в России в связи с актив...  Полная занятость  ...   \n",
       "1  Менеджер по продажам в банк: Райффайзенбанк — ...  Полная занятость  ...   \n",
       "2  Обязанности:  Ведение аналитики личного кабине...  Полная занятость  ...   \n",
       "3  Обязанности:  Обслуживать силовые и осветитель...  Полная занятость  ...   \n",
       "4  Обязанности:  Обеспечение обслуживания и содер...  Полная занятость  ...   \n",
       "\n",
       "     address.city salary.to_final branded_num_sym num_sym  \\\n",
       "0      не указано             NaN            1078     610   \n",
       "1          Москва             NaN            2166    1848   \n",
       "2      не указано         20000.0               0     314   \n",
       "3  село Лучинское         34800.0               0    2465   \n",
       "4          Ижевск         50000.0               0     733   \n",
       "\n",
       "                                      branded_tokens  \\\n",
       "0  ['1', '000', 'мебельных', 'салонов', '10', '00...   \n",
       "1  ['Менеджер', 'по', 'продажам', 'в', 'банк:', '...   \n",
       "2                                                 []   \n",
       "3                                                 []   \n",
       "4                                                 []   \n",
       "\n",
       "                                              tokens num_branded_tokens  \\\n",
       "0  ['Мебельная', 'компания', '№1', 'в', 'России',...                116   \n",
       "1  ['Менеджер', 'по', 'продажам', 'в', 'банк:', '...                268   \n",
       "2  ['Обязанности:', 'Ведение', 'аналитики', 'личн...                  0   \n",
       "3  ['Обязанности:', 'Обслуживать', 'силовые', 'и'...                  0   \n",
       "4  ['Обязанности:', 'Обеспечение', 'обслуживания'...                  0   \n",
       "\n",
       "   num_tokens                                     branded_lemmas  \\\n",
       "0          94  ['1', '000', 'мебельный', 'салон', '10', '000'...   \n",
       "1         238  ['менеджер', 'продажа', 'банк', 'райффайзенбан...   \n",
       "2          42                                                 []   \n",
       "3         256                                                 []   \n",
       "4          86                                                 []   \n",
       "\n",
       "                                              lemmas  \n",
       "0  ['мебельный', 'компания', '№1', 'россия', 'свя...  \n",
       "1  ['менеджер', 'продажа', 'банк', 'райффайзенбан...  \n",
       "2  ['обязанности', 'ведение', 'аналитик', 'личный...  \n",
       "3  ['обязанности', 'обслуживать', 'силовой', 'осв...  \n",
       "4  ['обязанности', 'обеспечение', 'обслуживание',...  \n",
       "\n",
       "[5 rows x 26 columns]"
      ]
     },
     "execution_count": 354,
     "metadata": {},
     "output_type": "execute_result"
    }
   ],
   "source": [
    "df.head()"
   ]
  },
  {
   "cell_type": "code",
   "execution_count": 355,
   "id": "6c03d6d2",
   "metadata": {},
   "outputs": [],
   "source": [
    "df_salaries = df[~df.max_final_salary.isnull()]"
   ]
  },
  {
   "cell_type": "code",
   "execution_count": 356,
   "id": "640df098",
   "metadata": {},
   "outputs": [],
   "source": [
    "X = df_salaries.lemmas.apply(literal_eval)\n",
    "y = df_salaries.max_final_salary.values"
   ]
  },
  {
   "cell_type": "code",
   "execution_count": 357,
   "id": "439b44aa",
   "metadata": {},
   "outputs": [],
   "source": [
    "X_train, X_test, y_train, y_test = train_test_split(X, y, test_size=0.3, random_state=42)"
   ]
  },
  {
   "cell_type": "code",
   "execution_count": 358,
   "id": "14aef2bf",
   "metadata": {},
   "outputs": [],
   "source": [
    "def identity_tokenizer(text):\n",
    "    return text\n",
    "\n",
    "tfidf = TfidfVectorizer(tokenizer=identity_tokenizer, lowercase=False)\n",
    "X_train_vec = tfidf.fit_transform(X_train)\n",
    "X_test_vec = tfidf.transform(X_test)"
   ]
  },
  {
   "cell_type": "code",
   "execution_count": 359,
   "id": "e0190a3c",
   "metadata": {},
   "outputs": [],
   "source": [
    "regr = LinearRegression()"
   ]
  },
  {
   "cell_type": "code",
   "execution_count": 360,
   "id": "22767e5c",
   "metadata": {},
   "outputs": [],
   "source": [
    "regr.fit(X_train_vec, y_train)\n",
    "y_pred = regr.predict(X_test_vec)"
   ]
  },
  {
   "cell_type": "code",
   "execution_count": 361,
   "id": "f3875c44",
   "metadata": {},
   "outputs": [
    {
     "data": {
      "text/plain": [
       "59233.90660263326"
      ]
     },
     "execution_count": 361,
     "metadata": {},
     "output_type": "execute_result"
    }
   ],
   "source": [
    "mean_absolute_error(y_test, y_pred)"
   ]
  },
  {
   "cell_type": "code",
   "execution_count": null,
   "id": "d9e0a090",
   "metadata": {},
   "outputs": [],
   "source": []
  }
 ],
 "metadata": {
  "kernelspec": {
   "display_name": "Python 3",
   "language": "python",
   "name": "python3"
  },
  "language_info": {
   "codemirror_mode": {
    "name": "ipython",
    "version": 3
   },
   "file_extension": ".py",
   "mimetype": "text/x-python",
   "name": "python",
   "nbconvert_exporter": "python",
   "pygments_lexer": "ipython3",
   "version": "3.6.9"
  }
 },
 "nbformat": 4,
 "nbformat_minor": 5
}
