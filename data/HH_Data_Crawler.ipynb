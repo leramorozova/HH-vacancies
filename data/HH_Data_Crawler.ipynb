{
 "cells": [
  {
   "cell_type": "markdown",
   "metadata": {
    "id": "lgkwWzVpjGNC"
   },
   "source": [
    "# Сбор данных с HH.ru\n",
    "\n"
   ]
  },
  {
   "cell_type": "markdown",
   "metadata": {
    "id": "PpqP_eIfnsPa"
   },
   "source": [
    "## Задача\n",
    "\n",
    "Сбор описаний вакансий с портала hh.ru."
   ]
  },
  {
   "cell_type": "markdown",
   "metadata": {
    "id": "slBS-0amnvl9"
   },
   "source": [
    "## Референсы\n",
    "\n",
    "Официальное API. Документация: https://github.com/hhru/api.\n",
    "\n",
    "Модель данных вакансии: https://github.com/hhru/api/blob/master/docs/vacancies.md"
   ]
  },
  {
   "cell_type": "markdown",
   "metadata": {
    "id": "3CnEQxs_bH2U"
   },
   "source": [
    "\n",
    "Через API доступны все вакансии, которые не были удалены работодателями. Самые старые доступные вакансии датированы 2008 годом.\n",
    "\n",
    "В текущей работе мы ограничим временной промежуток до последних трех лет, чтобы не учитывать в исследовании рыночные факторы, такие как инфляция, спрос на специальности и прочее. "
   ]
  },
  {
   "cell_type": "markdown",
   "metadata": {
    "id": "OPdSLWFFoVFA"
   },
   "source": [
    "## Формат и модели API"
   ]
  },
  {
   "cell_type": "markdown",
   "metadata": {
    "id": "6Mkgvzp4oagy"
   },
   "source": [
    "Для получения полного текста API выполняется запрос в эндпойнт /vacancied/{id}. ID вакансии присваиваются хронологически в порядке публикации.\n",
    "\n",
    "Пример модели данных вакансии представлен ниже."
   ]
  },
  {
   "cell_type": "code",
   "execution_count": null,
   "metadata": {
    "colab": {
     "base_uri": "https://localhost:8080/"
    },
    "id": "TeEVLN2kVp8K",
    "outputId": "9ecf9a73-95b9-4bba-cdf0-59f2dd2dbfbc"
   },
   "outputs": [
    {
     "name": "stdout",
     "output_type": "stream",
     "text": [
      "  % Total    % Received % Xferd  Average Speed   Time    Time     Time  Current\n",
      "                                 Dload  Upload   Total   Spent    Left  Speed\n",
      "100  2940  100  2940    0     0   2727      0  0:00:01  0:00:01 --:--:--  2727\n",
      "{\n",
      "    \"id\": \"100\",\n",
      "    \"premium\": false,\n",
      "    \"billing_type\": {\n",
      "        \"id\": \"standard\",\n",
      "        \"name\": \"\\u0421\\u0442\\u0430\\u043d\\u0434\\u0430\\u0440\\u0442\"\n",
      "    },\n",
      "    \"relations\": [],\n",
      "    \"name\": \"\\u041f\\u0440\\u043e\\u0434\\u0430\\u0432\\u0435\\u0446-\\u043a\\u043e\\u043d\\u0441\\u0443\\u043b\\u044c\\u0442\\u0430\\u043d\\u0442\",\n",
      "    \"insider_interview\": null,\n",
      "    \"response_letter_required\": false,\n",
      "    \"area\": {\n",
      "        \"id\": \"1\",\n",
      "        \"name\": \"\\u041c\\u043e\\u0441\\u043a\\u0432\\u0430\",\n",
      "        \"url\": \"https://api.hh.ru/areas/1\"\n",
      "    },\n",
      "    \"salary\": {\n",
      "        \"from\": null,\n",
      "        \"to\": 400,\n",
      "        \"currency\": \"USD\",\n",
      "        \"gross\": null\n",
      "    },\n",
      "    \"type\": {\n",
      "        \"id\": \"open\",\n",
      "        \"name\": \"\\u041e\\u0442\\u043a\\u0440\\u044b\\u0442\\u0430\\u044f\"\n",
      "    },\n",
      "    \"address\": null,\n",
      "    \"allow_messages\": true,\n",
      "    \"experience\": {\n",
      "        \"id\": \"noExperience\",\n",
      "        \"name\": \"\\u041d\\u0435\\u0442 \\u043e\\u043f\\u044b\\u0442\\u0430\"\n",
      "    },\n",
      "    \"schedule\": {\n",
      "        \"id\": \"fullDay\",\n",
      "        \"name\": \"\\u041f\\u043e\\u043b\\u043d\\u044b\\u0439 \\u0434\\u0435\\u043d\\u044c\"\n",
      "    },\n",
      "    \"employment\": {\n",
      "        \"id\": \"full\",\n",
      "        \"name\": \"\\u041f\\u043e\\u043b\\u043d\\u0430\\u044f \\u0437\\u0430\\u043d\\u044f\\u0442\\u043e\\u0441\\u0442\\u044c\"\n",
      "    },\n",
      "    \"department\": null,\n",
      "    \"contacts\": null,\n",
      "    \"description\": \"\\u041a\\u0440\\u0443\\u043f\\u043d\\u0430\\u044f \\u0442\\u043e\\u0440\\u0433\\u043e\\u0432\\u0430\\u044f \\u043a\\u043e\\u043c\\u043f\\u0430\\u043d\\u0438\\u044f, \\u043b\\u0438\\u0434\\u0435\\u0440 \\u0432 \\u0441\\u0444\\u0435\\u0440\\u0435 \\u0440\\u043e\\u0437\\u043d\\u0438\\u0447\\u043d\\u043e\\u0439 \\u0442\\u043e\\u0440\\u0433\\u043e\\u0432\\u043b\\u0438 \\u043e\\u0434\\u0435\\u0436\\u0434\\u043e\\u0439 \\u0438 \\u0430\\u043a\\u0441\\u0435\\u0441\\u0441\\u0443\\u0430\\u0440\\u0430\\u043c\\u0438 \\u0432\\u0435\\u0434\\u0443\\u0449\\u0438\\u0445 \\u043c\\u0438\\u0440\\u043e\\u0432\\u044b\\u0445 \\u0414\\u043e\\u043c\\u043e\\u0432 \\u041c\\u043e\\u0434\\u044b, \\u043f\\u0440\\u0438\\u0433\\u043b\\u0430\\u0448\\u0430\\u0435\\u0442 \\u043f\\u0440\\u0438\\u043d\\u044f\\u0442\\u044c \\u0443\\u0447\\u0430\\u0441\\u0442\\u0438\\u0435 \\u0432 \\u0441\\u043e\\u0431\\u0435\\u0441\\u0435\\u0434\\u043e\\u0432\\u0430\\u043d\\u0438\\u0438  \\u043d\\u0430 \\u0434\\u043e\\u043b\\u0436\\u043d\\u043e\\u0441\\u0442\\u044c \\u043f\\u0440\\u043e\\u0434\\u0430\\u0432\\u0435\\u0446-\\u043a\\u043e\\u043d\\u0441\\u0443\\u043b\\u044c\\u0442\\u0430\\u043d\\u0442.\\r<br />\\n\\r<br />\\n\\u041e\\u0431\\u044f\\u0437\\u0430\\u0442\\u0435\\u043b\\u044c\\u043d\\u044b\\u0435 \\u0442\\u0440\\u0435\\u0431\\u043e\\u0432\\u0430\\u043d\\u0438\\u044f: \\r<br />\\n\\u043d\\u0430\\u043b\\u0438\\u0447\\u0438\\u0435 \\u043c\\u043e\\u0441\\u043a\\u043e\\u0432\\u0441\\u043a\\u043e\\u0439 \\u043f\\u0440\\u043e\\u043f\\u0438\\u0441\\u043a\\u0438, \\r<br />\\n\\u043a\\u043e\\u043c\\u043c\\u0443\\u043d\\u0438\\u043a\\u0430\\u0431\\u0435\\u043b\\u044c\\u043d\\u043e\\u0441\\u0442\\u044c, \\u0443\\u043c\\u0435\\u043d\\u0438\\u0435 \\u0440\\u0430\\u0431\\u043e\\u0442\\u0430\\u0442\\u044c \\u0441 \\u043a\\u043b\\u0438\\u0435\\u043d\\u0442\\u043e\\u043c.\\r<br />\\n\\r<br />\\n\\u041c\\u044b \\u043f\\u0440\\u0435\\u0434\\u043b\\u0430\\u0433\\u0430\\u0435\\u043c: \\r<br />\\n\\u0441\\u0442\\u0430\\u0431\\u0438\\u043b\\u044c\\u043d\\u0443\\u044e \\u0437\\u0430\\u0440\\u043f\\u043b\\u0430\\u0442\\u0443, \\u0433\\u0438\\u0431\\u043a\\u0438\\u0439 \\u0433\\u0440\\u0430\\u0444\\u0438\\u043a, \\u0432\\u043e\\u0437\\u043c\\u043e\\u0436\\u043d\\u043e\\u0441\\u0442\\u044c \\u043a\\u0430\\u0440\\u044c\\u0435\\u0440\\u043d\\u043e\\u0433\\u043e \\u0440\\u043e\\u0441\\u0442\\u0430, \\u0441\\u043e\\u0446\\u0438\\u0430\\u043b\\u044c\\u043d\\u044b\\u0439 \\u043f\\u0430\\u043a\\u0435\\u0442: \\u0444\\u043e\\u0440\\u043c\\u0430 \\u0438\\u0437 \\u0442\\u0435\\u043a\\u0443\\u0449\\u0435\\u0439 \\u043a\\u043e\\u043b\\u043b\\u0435\\u043a\\u0446\\u0438\\u0438, \\u0441\\u043a\\u0438\\u0434\\u043a\\u0438, \\u043c\\u0435\\u0434\\u0438\\u0446\\u0438\\u043d\\u0441\\u043a\\u0430\\u044f \\u0441\\u0442\\u0440\\u0430\\u0445\\u043e\\u0432\\u043a\\u0430.\",\n",
      "    \"branded_description\": null,\n",
      "    \"vacancy_constructor_template\": null,\n",
      "    \"key_skills\": [],\n",
      "    \"accept_handicapped\": false,\n",
      "    \"accept_kids\": false,\n",
      "    \"archived\": true,\n",
      "    \"response_url\": null,\n",
      "    \"specializations\": [\n",
      "        {\n",
      "            \"id\": \"17.256\",\n",
      "            \"name\": \"\\u0420\\u043e\\u0437\\u043d\\u0438\\u0447\\u043d\\u0430\\u044f \\u0442\\u043e\\u0440\\u0433\\u043e\\u0432\\u043b\\u044f\",\n",
      "            \"profarea_id\": \"17\",\n",
      "            \"profarea_name\": \"\\u041f\\u0440\\u043e\\u0434\\u0430\\u0436\\u0438\"\n",
      "        }\n",
      "    ],\n",
      "    \"professional_roles\": [\n",
      "        {\n",
      "            \"id\": \"97\",\n",
      "            \"name\": \"\\u041f\\u0440\\u043e\\u0434\\u0430\\u0432\\u0435\\u0446-\\u043a\\u043e\\u043d\\u0441\\u0443\\u043b\\u044c\\u0442\\u0430\\u043d\\u0442, \\u043f\\u0440\\u043e\\u0434\\u0430\\u0432\\u0435\\u0446-\\u043a\\u0430\\u0441\\u0441\\u0438\\u0440\"\n",
      "        }\n",
      "    ],\n",
      "    \"code\": null,\n",
      "    \"hidden\": false,\n",
      "    \"quick_responses_allowed\": false,\n",
      "    \"driver_license_types\": [],\n",
      "    \"accept_incomplete_resumes\": false,\n",
      "    \"employer\": {\n",
      "        \"id\": \"2406\",\n",
      "        \"name\": \"\\u0414\\u0436\\u0430\\u043c\\u0438\\u043b\\u044c\\u041a\\u043e\",\n",
      "        \"url\": \"https://api.hh.ru/employers/2406\",\n",
      "        \"alternate_url\": \"https://hh.ru/employer/2406\",\n",
      "        \"logo_urls\": {\n",
      "            \"240\": \"https://hhcdn.ru/employer-logo/1024977.jpeg\",\n",
      "            \"original\": \"https://hhcdn.ru/employer-logo-original/232403.jpg\",\n",
      "            \"90\": \"https://hhcdn.ru/employer-logo/1024976.jpeg\"\n",
      "        },\n",
      "        \"vacancies_url\": \"https://api.hh.ru/vacancies?employer_id=2406\",\n",
      "        \"trusted\": true\n",
      "    },\n",
      "    \"published_at\": \"2003-10-29T00:00:00+0300\",\n",
      "    \"created_at\": \"2003-10-29T00:00:00+0300\",\n",
      "    \"initial_created_at\": \"2003-10-29T00:00:00+0300\",\n",
      "    \"negotiations_url\": null,\n",
      "    \"suitable_resumes_url\": null,\n",
      "    \"apply_alternate_url\": \"https://hh.ru/applicant/vacancy_response?vacancyId=100\",\n",
      "    \"has_test\": false,\n",
      "    \"test\": null,\n",
      "    \"alternate_url\": \"https://hh.ru/vacancy/100\",\n",
      "    \"working_days\": [],\n",
      "    \"working_time_intervals\": [],\n",
      "    \"working_time_modes\": [],\n",
      "    \"accept_temporary\": false,\n",
      "    \"languages\": []\n",
      "}\n"
     ]
    }
   ],
   "source": [
    "! curl -k -H 'User-Agent: api-test-agent' 'https://api.hh.ru/vacancies/100' | python -m json.tool"
   ]
  },
  {
   "cell_type": "markdown",
   "metadata": {
    "id": "GsLW3dGkohiT"
   },
   "source": [
    "## Сбор данных"
   ]
  },
  {
   "cell_type": "markdown",
   "metadata": {
    "id": "Vh_c1PDopgDG"
   },
   "source": [
    "Пользуясь информацией выше, возьмем один из наиболее свежих id вакансий (https://api.hh.ru/vacancies/74118051) и начнем сбор с него, декрементируя. Данные будем предварительно сохранять в текстовые файлы формата json. Выставим слип на случай ограничения количества запросов."
   ]
  },
  {
   "cell_type": "code",
   "execution_count": 22,
   "metadata": {
    "id": "Smf5r2WDYIQ4"
   },
   "outputs": [],
   "source": [
    "import datetime\n",
    "import json\n",
    "import random\n",
    "import requests\n",
    "import time\n",
    "\n",
    "from pathlib import Path\n",
    "from tqdm.notebook import trange\n",
    "\n",
    "\n",
    "API_ENDPOINT = \"https://api.hh.ru/vacancies/\"\n",
    "WORK_DIR = Path(\"/home/ephobia/Desktop/HH\")\n",
    "LOG_FILE_PATH = WORK_DIR / \"log.txt\"\n",
    "FILE_PATH = WORK_DIR / \"data\"\n",
    "START_ID = 74090273 # 74118051\n",
    "END_ID = 44118051"
   ]
  },
  {
   "cell_type": "code",
   "execution_count": 23,
   "metadata": {
    "id": "U37Bfcatv8vc"
   },
   "outputs": [],
   "source": [
    "FILE_PATH.mkdir(parents=True, exist_ok=True)"
   ]
  },
  {
   "cell_type": "markdown",
   "metadata": {},
   "source": [
    "hh.ru ограничивает количество запросов в открытый API в сутки с одного устройств до нескольких тысяч в сутки, существенно снижает эффективность краулинга. Поскольку итерация по id вакасий не гарантирует, что запрошенная вакансия существует в открытом доступе (она может быть скрыта, находиться в черновиках или удалена), эффективность перебора составлят около 15%.\n",
    "\n",
    "Чтобы ускорить сбор данных, воспользуемся техникой IP address Spoofing. Были использованы бесплатные прокси, источник: https://free-proxy-list.net/"
   ]
  },
  {
   "cell_type": "code",
   "execution_count": 24,
   "metadata": {},
   "outputs": [],
   "source": [
    "PROXIES = [\n",
    "    'http://51.159.115.233:3128',\n",
    "    '179.96.28.58:80',\n",
    "    '95.56.254.139:3128',\n",
    "    '95.154.255.194:8000',\n",
    "    '116.202.165.119:3121',\n",
    "    '52.253.83.186:8090',\n",
    "    '181.143.225.173:3129'\n",
    "]"
   ]
  },
  {
   "cell_type": "code",
   "execution_count": 25,
   "metadata": {},
   "outputs": [],
   "source": [
    "def get_proxy():\n",
    "    proxies = {\n",
    "       'https': random.choice(PROXIES)\n",
    "    }\n",
    "    return proxies"
   ]
  },
  {
   "cell_type": "code",
   "execution_count": 26,
   "metadata": {},
   "outputs": [],
   "source": [
    "def write_log(idx: str, text: str):\n",
    "    with open(str(LOG_FILE_PATH), 'a') as fd:\n",
    "        fd.write(f\"{idx} - {datetime.datetime.now()} - {text}\\n\")\n",
    "        fd.close()"
   ]
  },
  {
   "cell_type": "code",
   "execution_count": null,
   "metadata": {
    "colab": {
     "base_uri": "https://localhost:8080/",
     "height": 267,
     "referenced_widgets": [
      "18a3b335ec42437a85321696f947059b",
      "359ecee84e7748ccbcd12ab20ba72336",
      "51e026f28aa544b590c042323e0c3678",
      "f1b5362a78a74ddbb3abb7c817ca3cd1",
      "f1d6edff35ca425190594641ac78a805",
      "6d69bcb32ef940dfb9bcd6a3cadd79b3",
      "5df1a8a9edf34f0dbb1d7535bcbc1b66",
      "10cb70c044404b8a996eea944f226d2b",
      "ccf04fceaefd46eaad894468796d02e1",
      "24d214703d59429b84cdf0bb275de95f",
      "7171247df3034913b5b90971534e35d2"
     ]
    },
    "id": "2LYbZk8fYqRR",
    "outputId": "82c4d601-f60b-49bc-b1f4-828eef614b58"
   },
   "outputs": [
    {
     "data": {
      "application/vnd.jupyter.widget-view+json": {
       "model_id": "3c6e15542d5d46a4b8a314429fc57a14",
       "version_major": 2,
       "version_minor": 0
      },
      "text/plain": [
       "  0%|          | 0/29972222 [00:00<?, ?it/s]"
      ]
     },
     "metadata": {},
     "output_type": "display_data"
    }
   ],
   "source": [
    "for i in trange(START_ID, END_ID, -1):\n",
    "\n",
    "    try:\n",
    "        proxies = get_proxy()\n",
    "        response = requests.get(f\"{API_ENDPOINT}{i}\", \n",
    "                                headers={\"User-Agent\": \"api-test-agent\"},\n",
    "                                proxies=proxies\n",
    "                               )\n",
    "        \n",
    "        if response.status_code == 404:\n",
    "            continue\n",
    "\n",
    "        if not response.ok:\n",
    "            write_log(i, f\"{response.status_code} {response.content}\")\n",
    "            break\n",
    "        \n",
    "        fp = FILE_PATH / f\"{i}.json\"\n",
    "        data = response.json()\n",
    "        with open(str(fp), 'w') as fd:\n",
    "            json.dump(data, fd, ensure_ascii=False)\n",
    "\n",
    "    except Exception as e:\n",
    "        write_log(i, e)"
   ]
  }
 ],
 "metadata": {
  "colab": {
   "provenance": []
  },
  "kernelspec": {
   "display_name": "Python 3",
   "language": "python",
   "name": "python3"
  },
  "language_info": {
   "codemirror_mode": {
    "name": "ipython",
    "version": 3
   },
   "file_extension": ".py",
   "mimetype": "text/x-python",
   "name": "python",
   "nbconvert_exporter": "python",
   "pygments_lexer": "ipython3",
   "version": "3.6.9"
  },
  "widgets": {
   "application/vnd.jupyter.widget-state+json": {
    "10cb70c044404b8a996eea944f226d2b": {
     "model_module": "@jupyter-widgets/base",
     "model_module_version": "1.2.0",
     "model_name": "LayoutModel",
     "state": {
      "_model_module": "@jupyter-widgets/base",
      "_model_module_version": "1.2.0",
      "_model_name": "LayoutModel",
      "_view_count": null,
      "_view_module": "@jupyter-widgets/base",
      "_view_module_version": "1.2.0",
      "_view_name": "LayoutView",
      "align_content": null,
      "align_items": null,
      "align_self": null,
      "border": null,
      "bottom": null,
      "display": null,
      "flex": null,
      "flex_flow": null,
      "grid_area": null,
      "grid_auto_columns": null,
      "grid_auto_flow": null,
      "grid_auto_rows": null,
      "grid_column": null,
      "grid_gap": null,
      "grid_row": null,
      "grid_template_areas": null,
      "grid_template_columns": null,
      "grid_template_rows": null,
      "height": null,
      "justify_content": null,
      "justify_items": null,
      "left": null,
      "margin": null,
      "max_height": null,
      "max_width": null,
      "min_height": null,
      "min_width": null,
      "object_fit": null,
      "object_position": null,
      "order": null,
      "overflow": null,
      "overflow_x": null,
      "overflow_y": null,
      "padding": null,
      "right": null,
      "top": null,
      "visibility": null,
      "width": null
     }
    },
    "18a3b335ec42437a85321696f947059b": {
     "model_module": "@jupyter-widgets/controls",
     "model_module_version": "1.5.0",
     "model_name": "HBoxModel",
     "state": {
      "_dom_classes": [],
      "_model_module": "@jupyter-widgets/controls",
      "_model_module_version": "1.5.0",
      "_model_name": "HBoxModel",
      "_view_count": null,
      "_view_module": "@jupyter-widgets/controls",
      "_view_module_version": "1.5.0",
      "_view_name": "HBoxView",
      "box_style": "",
      "children": [
       "IPY_MODEL_359ecee84e7748ccbcd12ab20ba72336",
       "IPY_MODEL_51e026f28aa544b590c042323e0c3678",
       "IPY_MODEL_f1b5362a78a74ddbb3abb7c817ca3cd1"
      ],
      "layout": "IPY_MODEL_f1d6edff35ca425190594641ac78a805"
     }
    },
    "24d214703d59429b84cdf0bb275de95f": {
     "model_module": "@jupyter-widgets/base",
     "model_module_version": "1.2.0",
     "model_name": "LayoutModel",
     "state": {
      "_model_module": "@jupyter-widgets/base",
      "_model_module_version": "1.2.0",
      "_model_name": "LayoutModel",
      "_view_count": null,
      "_view_module": "@jupyter-widgets/base",
      "_view_module_version": "1.2.0",
      "_view_name": "LayoutView",
      "align_content": null,
      "align_items": null,
      "align_self": null,
      "border": null,
      "bottom": null,
      "display": null,
      "flex": null,
      "flex_flow": null,
      "grid_area": null,
      "grid_auto_columns": null,
      "grid_auto_flow": null,
      "grid_auto_rows": null,
      "grid_column": null,
      "grid_gap": null,
      "grid_row": null,
      "grid_template_areas": null,
      "grid_template_columns": null,
      "grid_template_rows": null,
      "height": null,
      "justify_content": null,
      "justify_items": null,
      "left": null,
      "margin": null,
      "max_height": null,
      "max_width": null,
      "min_height": null,
      "min_width": null,
      "object_fit": null,
      "object_position": null,
      "order": null,
      "overflow": null,
      "overflow_x": null,
      "overflow_y": null,
      "padding": null,
      "right": null,
      "top": null,
      "visibility": null,
      "width": null
     }
    },
    "359ecee84e7748ccbcd12ab20ba72336": {
     "model_module": "@jupyter-widgets/controls",
     "model_module_version": "1.5.0",
     "model_name": "HTMLModel",
     "state": {
      "_dom_classes": [],
      "_model_module": "@jupyter-widgets/controls",
      "_model_module_version": "1.5.0",
      "_model_name": "HTMLModel",
      "_view_count": null,
      "_view_module": "@jupyter-widgets/controls",
      "_view_module_version": "1.5.0",
      "_view_name": "HTMLView",
      "description": "",
      "description_tooltip": null,
      "layout": "IPY_MODEL_6d69bcb32ef940dfb9bcd6a3cadd79b3",
      "placeholder": "​",
      "style": "IPY_MODEL_5df1a8a9edf34f0dbb1d7535bcbc1b66",
      "value": "  0%"
     }
    },
    "51e026f28aa544b590c042323e0c3678": {
     "model_module": "@jupyter-widgets/controls",
     "model_module_version": "1.5.0",
     "model_name": "FloatProgressModel",
     "state": {
      "_dom_classes": [],
      "_model_module": "@jupyter-widgets/controls",
      "_model_module_version": "1.5.0",
      "_model_name": "FloatProgressModel",
      "_view_count": null,
      "_view_module": "@jupyter-widgets/controls",
      "_view_module_version": "1.5.0",
      "_view_name": "ProgressView",
      "bar_style": "danger",
      "description": "",
      "description_tooltip": null,
      "layout": "IPY_MODEL_10cb70c044404b8a996eea944f226d2b",
      "max": 30000000,
      "min": 0,
      "orientation": "horizontal",
      "style": "IPY_MODEL_ccf04fceaefd46eaad894468796d02e1",
      "value": 0
     }
    },
    "5df1a8a9edf34f0dbb1d7535bcbc1b66": {
     "model_module": "@jupyter-widgets/controls",
     "model_module_version": "1.5.0",
     "model_name": "DescriptionStyleModel",
     "state": {
      "_model_module": "@jupyter-widgets/controls",
      "_model_module_version": "1.5.0",
      "_model_name": "DescriptionStyleModel",
      "_view_count": null,
      "_view_module": "@jupyter-widgets/base",
      "_view_module_version": "1.2.0",
      "_view_name": "StyleView",
      "description_width": ""
     }
    },
    "6d69bcb32ef940dfb9bcd6a3cadd79b3": {
     "model_module": "@jupyter-widgets/base",
     "model_module_version": "1.2.0",
     "model_name": "LayoutModel",
     "state": {
      "_model_module": "@jupyter-widgets/base",
      "_model_module_version": "1.2.0",
      "_model_name": "LayoutModel",
      "_view_count": null,
      "_view_module": "@jupyter-widgets/base",
      "_view_module_version": "1.2.0",
      "_view_name": "LayoutView",
      "align_content": null,
      "align_items": null,
      "align_self": null,
      "border": null,
      "bottom": null,
      "display": null,
      "flex": null,
      "flex_flow": null,
      "grid_area": null,
      "grid_auto_columns": null,
      "grid_auto_flow": null,
      "grid_auto_rows": null,
      "grid_column": null,
      "grid_gap": null,
      "grid_row": null,
      "grid_template_areas": null,
      "grid_template_columns": null,
      "grid_template_rows": null,
      "height": null,
      "justify_content": null,
      "justify_items": null,
      "left": null,
      "margin": null,
      "max_height": null,
      "max_width": null,
      "min_height": null,
      "min_width": null,
      "object_fit": null,
      "object_position": null,
      "order": null,
      "overflow": null,
      "overflow_x": null,
      "overflow_y": null,
      "padding": null,
      "right": null,
      "top": null,
      "visibility": null,
      "width": null
     }
    },
    "7171247df3034913b5b90971534e35d2": {
     "model_module": "@jupyter-widgets/controls",
     "model_module_version": "1.5.0",
     "model_name": "DescriptionStyleModel",
     "state": {
      "_model_module": "@jupyter-widgets/controls",
      "_model_module_version": "1.5.0",
      "_model_name": "DescriptionStyleModel",
      "_view_count": null,
      "_view_module": "@jupyter-widgets/base",
      "_view_module_version": "1.2.0",
      "_view_name": "StyleView",
      "description_width": ""
     }
    },
    "ccf04fceaefd46eaad894468796d02e1": {
     "model_module": "@jupyter-widgets/controls",
     "model_module_version": "1.5.0",
     "model_name": "ProgressStyleModel",
     "state": {
      "_model_module": "@jupyter-widgets/controls",
      "_model_module_version": "1.5.0",
      "_model_name": "ProgressStyleModel",
      "_view_count": null,
      "_view_module": "@jupyter-widgets/base",
      "_view_module_version": "1.2.0",
      "_view_name": "StyleView",
      "bar_color": null,
      "description_width": ""
     }
    },
    "f1b5362a78a74ddbb3abb7c817ca3cd1": {
     "model_module": "@jupyter-widgets/controls",
     "model_module_version": "1.5.0",
     "model_name": "HTMLModel",
     "state": {
      "_dom_classes": [],
      "_model_module": "@jupyter-widgets/controls",
      "_model_module_version": "1.5.0",
      "_model_name": "HTMLModel",
      "_view_count": null,
      "_view_module": "@jupyter-widgets/controls",
      "_view_module_version": "1.5.0",
      "_view_name": "HTMLView",
      "description": "",
      "description_tooltip": null,
      "layout": "IPY_MODEL_24d214703d59429b84cdf0bb275de95f",
      "placeholder": "​",
      "style": "IPY_MODEL_7171247df3034913b5b90971534e35d2",
      "value": " 0/30000000 [00:01&lt;?, ?it/s]"
     }
    },
    "f1d6edff35ca425190594641ac78a805": {
     "model_module": "@jupyter-widgets/base",
     "model_module_version": "1.2.0",
     "model_name": "LayoutModel",
     "state": {
      "_model_module": "@jupyter-widgets/base",
      "_model_module_version": "1.2.0",
      "_model_name": "LayoutModel",
      "_view_count": null,
      "_view_module": "@jupyter-widgets/base",
      "_view_module_version": "1.2.0",
      "_view_name": "LayoutView",
      "align_content": null,
      "align_items": null,
      "align_self": null,
      "border": null,
      "bottom": null,
      "display": null,
      "flex": null,
      "flex_flow": null,
      "grid_area": null,
      "grid_auto_columns": null,
      "grid_auto_flow": null,
      "grid_auto_rows": null,
      "grid_column": null,
      "grid_gap": null,
      "grid_row": null,
      "grid_template_areas": null,
      "grid_template_columns": null,
      "grid_template_rows": null,
      "height": null,
      "justify_content": null,
      "justify_items": null,
      "left": null,
      "margin": null,
      "max_height": null,
      "max_width": null,
      "min_height": null,
      "min_width": null,
      "object_fit": null,
      "object_position": null,
      "order": null,
      "overflow": null,
      "overflow_x": null,
      "overflow_y": null,
      "padding": null,
      "right": null,
      "top": null,
      "visibility": null,
      "width": null
     }
    }
   }
  }
 },
 "nbformat": 4,
 "nbformat_minor": 1
}
