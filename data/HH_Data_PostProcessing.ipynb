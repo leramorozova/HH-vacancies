{
 "cells": [
  {
   "cell_type": "markdown",
   "id": "1a4ba631",
   "metadata": {},
   "source": [
    "# Предобработка документов вакансий"
   ]
  },
  {
   "cell_type": "code",
   "execution_count": 1,
   "id": "67f48d30",
   "metadata": {},
   "outputs": [
    {
     "name": "stderr",
     "output_type": "stream",
     "text": [
      "/usr/lib/python3/dist-packages/requests/__init__.py:80: RequestsDependencyWarning: urllib3 (1.26.13) or chardet (3.0.4) doesn't match a supported version!\n",
      "  RequestsDependencyWarning)\n"
     ]
    }
   ],
   "source": [
    "import json\n",
    "import requests\n",
    "\n",
    "from bs4 import BeautifulSoup\n",
    "from elasticsearch import Elasticsearch\n",
    "from pathlib import Path"
   ]
  },
  {
   "cell_type": "code",
   "execution_count": 2,
   "id": "686693e0",
   "metadata": {},
   "outputs": [],
   "source": [
    "WORK_DIR = Path(\"/home/ephobia/Desktop/HH\")\n",
    "FILE_PATH = WORK_DIR / \"data\"\n",
    "INDEX_NAME = \"vacancies\"\n",
    "\n",
    "ES = Elasticsearch(hosts=\"http://localhost:9200\")"
   ]
  },
  {
   "cell_type": "markdown",
   "id": "051d3739",
   "metadata": {},
   "source": [
    "## Загрузка данных на ElasticSearch"
   ]
  },
  {
   "cell_type": "markdown",
   "id": "67698a6b",
   "metadata": {},
   "source": [
    "Данные предатавляют собой структурированные документы с вложенными полями, что затрудняет их обработку в реляционных базах данных. Также объем данных слишком большой, чтобы проводить последующий EDA без возможности поиска по полям документов.\n",
    "\n",
    "В связи с этим для хранения документов мною была выбрана нереляционная СУБД Elasticsearch. Перенесем базу данных в подготовленный индекс."
   ]
  },
  {
   "cell_type": "code",
   "execution_count": 3,
   "id": "2431063d",
   "metadata": {},
   "outputs": [],
   "source": [
    "for file in FILE_PATH.rglob(\"*\"):\n",
    "    text = file.read_text()\n",
    "    json_text = json.loads(text)\n",
    "    ES.index(index=INDEX_NAME, id=file.stem, document=json_text)"
   ]
  },
  {
   "cell_type": "code",
   "execution_count": 4,
   "id": "3ac5cf99",
   "metadata": {},
   "outputs": [],
   "source": [
    "response = ES.search(index=INDEX_NAME, query={\n",
    "    \"match_all\": {}\n",
    "}, size = 30000)\n",
    "\n",
    "documents = response[\"hits\"][\"hits\"]"
   ]
  },
  {
   "cell_type": "code",
   "execution_count": 5,
   "id": "0f427081",
   "metadata": {},
   "outputs": [
    {
     "data": {
      "text/plain": [
       "29522"
      ]
     },
     "execution_count": 5,
     "metadata": {},
     "output_type": "execute_result"
    }
   ],
   "source": [
    "len(documents)"
   ]
  },
  {
   "cell_type": "markdown",
   "id": "92f09856",
   "metadata": {},
   "source": [
    "## Первичная обработка данных"
   ]
  },
  {
   "cell_type": "markdown",
   "id": "85a2e5f4",
   "metadata": {},
   "source": [
    "Некоторые из полей требуют предварительной обработки для последующего анализа. Дополним структуру документа новыми полями с обработанными данными."
   ]
  },
  {
   "cell_type": "markdown",
   "id": "63868060",
   "metadata": {},
   "source": [
    "### Зарплатная вилка\n",
    "\n",
    "Формат представления зарплаты включает в себя следующие особенности:\n",
    "\n",
    "1. Зарплата может быть указана как диапазон значений или не быть указана совсем.\n",
    "2. Зарплата может быть указана в различных валютах.\n",
    "3. Встречаются случаи указания зарплаты как до, так и после вычета налогов (это также отображено в структуре документа вакансии)\n",
    "\n",
    "Задача: привести зарплаты в единый диапазон значений (в рублях после вычета налогов) и попробовать сформулировать вилку одним значением (в данном случае - максимальное значение в вилке).\n",
    "\n",
    "API HeadHunter включает в себя эндпоинт для получения коэффициента отношения данной валюты к курсы рубля. С помощью него довольно просто получить финальное значение в рублях.\n",
    "\n",
    "Новые поля:\n",
    "* salary/to_final\n",
    "* salary/from_final\n",
    "* max_final_salary\n",
    "* max_salary"
   ]
  },
  {
   "cell_type": "code",
   "execution_count": 6,
   "id": "f6dd46a5",
   "metadata": {},
   "outputs": [],
   "source": [
    "def get_currencies():\n",
    "    currencies = {}\n",
    "    dictionaries = requests.get('https://api.hh.ru/dictionaries').json()\n",
    "    for currency in dictionaries['currency']:\n",
    "        currencies[currency['code']] = currency['rate']\n",
    "    return currencies"
   ]
  },
  {
   "cell_type": "code",
   "execution_count": 7,
   "id": "8b073d54",
   "metadata": {},
   "outputs": [],
   "source": [
    "CURRENCIES = get_currencies()"
   ]
  },
  {
   "cell_type": "code",
   "execution_count": 8,
   "id": "260edd2c",
   "metadata": {},
   "outputs": [],
   "source": [
    "def get_rub_final_salary(document, salary):\n",
    "    salary /= CURRENCIES[document[\"_source\"]['salary']['currency']]\n",
    "    if document[\"_source\"]['salary']['gross']:\n",
    "        salary -= salary * 0.13\n",
    "    return salary"
   ]
  },
  {
   "cell_type": "markdown",
   "id": "4d90df4b",
   "metadata": {},
   "source": [
    "### Текст вакансии\n",
    "\n",
    "В структуре документа представлено два поля с описанием вакансии: обычное описание и брендированное. Они могут быть заполненны одновременно, но разным текстом.\n",
    "\n",
    "Данные поля содержат текст в html разметке. Задача: очистить текст от разметки для последующего текстуального анализа.\n",
    "\n",
    "Новые поля:\n",
    "\n",
    "* postpoc_desc\n",
    "* postpoc_branded_desc"
   ]
  },
  {
   "cell_type": "code",
   "execution_count": 9,
   "id": "e75b55c6",
   "metadata": {},
   "outputs": [],
   "source": [
    "def get_text_from_html(html_doc):\n",
    "    if html_doc is not None:\n",
    "        soup = BeautifulSoup(html_doc, 'html.parser')\n",
    "        return soup.get_text()\n",
    "    return None"
   ]
  },
  {
   "cell_type": "code",
   "execution_count": 10,
   "id": "41e5ab78",
   "metadata": {},
   "outputs": [],
   "source": [
    "for document in documents:\n",
    "    document[\"_source\"][\"postpoc_desc\"] = get_text_from_html(document[\"_source\"][\"description\"])\n",
    "    document[\"_source\"][\"postpoc_branded_desc\"] = get_text_from_html(document[\"_source\"][\"branded_description\"])\n",
    "    \n",
    "    max_salary = -1\n",
    "    if document[\"_source\"]['salary']:\n",
    "        \n",
    "        if document[\"_source\"]['salary']['to']:\n",
    "            to_final_salary = get_rub_final_salary(document, document[\"_source\"]['salary']['to'])\n",
    "            if document[\"_source\"]['salary']['to'] > max_salary:\n",
    "                max_salary = document[\"_source\"]['salary']['to']\n",
    "            document[\"_source\"]['salary']['to_final'] = to_final_salary\n",
    "\n",
    "        if document[\"_source\"]['salary']['from']:\n",
    "            from_final_salary = get_rub_final_salary(document, document[\"_source\"]['salary']['from'])\n",
    "            if from_final_salary > document[\"_source\"]['salary']['from']:\n",
    "                max_salary = document[\"_source\"]['salary']['from']\n",
    "            document[\"_source\"]['salary']['from_final'] = to_final_salary\n",
    "            \n",
    "        if max_salary > 0: \n",
    "            document[\"_source\"]['max_final_salary'] = get_rub_final_salary(document, max_salary)\n",
    "        else:\n",
    "            max_salary = None\n",
    "            document[\"_source\"]['max_final_salary'] = max_salary\n",
    "\n",
    "    document[\"_source\"]['max_salary'] = max_salary "
   ]
  },
  {
   "cell_type": "markdown",
   "id": "b835a1bd",
   "metadata": {},
   "source": [
    "## Обновление  документов в базе данных"
   ]
  },
  {
   "cell_type": "code",
   "execution_count": 11,
   "id": "e679275b",
   "metadata": {},
   "outputs": [],
   "source": [
    "def get_doc_to_update(document):\n",
    "    source = document[\"_source\"]\n",
    "    return {\"doc\": source}"
   ]
  },
  {
   "cell_type": "code",
   "execution_count": 12,
   "id": "e6450cbb",
   "metadata": {},
   "outputs": [
    {
     "name": "stderr",
     "output_type": "stream",
     "text": [
      "/home/ephobia/.local/lib/python3.6/site-packages/ipykernel_launcher.py:5: DeprecationWarning: The 'body' parameter is deprecated and will be removed in a future version. Instead use individual parameters.\n",
      "  \"\"\"\n"
     ]
    }
   ],
   "source": [
    "for document in documents:\n",
    "    response = ES.update(\n",
    "        index=INDEX_NAME,\n",
    "        id=document[\"_id\"],\n",
    "        body=get_doc_to_update(document)\n",
    "    )"
   ]
  },
  {
   "cell_type": "code",
   "execution_count": null,
   "id": "8640c3d5",
   "metadata": {},
   "outputs": [],
   "source": []
  }
 ],
 "metadata": {
  "kernelspec": {
   "display_name": "Python 3",
   "language": "python",
   "name": "python3"
  },
  "language_info": {
   "codemirror_mode": {
    "name": "ipython",
    "version": 3
   },
   "file_extension": ".py",
   "mimetype": "text/x-python",
   "name": "python",
   "nbconvert_exporter": "python",
   "pygments_lexer": "ipython3",
   "version": "3.6.9"
  }
 },
 "nbformat": 4,
 "nbformat_minor": 5
}
